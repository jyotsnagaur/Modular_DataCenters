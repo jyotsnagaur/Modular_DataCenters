{
 "cells": [
  {
   "cell_type": "code",
   "execution_count": 1,
   "id": "27c9c828",
   "metadata": {},
   "outputs": [],
   "source": [
    "import pandas as pd\n",
    "import seaborn as sns\n",
    "import matplotlib.pyplot as plt\n",
    "\n"
   ]
  },
  {
   "cell_type": "code",
   "execution_count": 2,
   "id": "890d8f3b",
   "metadata": {},
   "outputs": [
    {
     "data": {
      "text/html": [
       "<div>\n",
       "<style scoped>\n",
       "    .dataframe tbody tr th:only-of-type {\n",
       "        vertical-align: middle;\n",
       "    }\n",
       "\n",
       "    .dataframe tbody tr th {\n",
       "        vertical-align: top;\n",
       "    }\n",
       "\n",
       "    .dataframe thead th {\n",
       "        text-align: right;\n",
       "    }\n",
       "</style>\n",
       "<table border=\"1\" class=\"dataframe\">\n",
       "  <thead>\n",
       "    <tr style=\"text-align: right;\">\n",
       "      <th></th>\n",
       "      <th>Time</th>\n",
       "      <th>ROOM_1_A16AB98E:CANBERRA ANN HTG 99.6% CONDNS DB:Des Heat Load [W]</th>\n",
       "      <th>ROOM_1_A16AB98E:CANBERRA ANN CLG .4% CONDNS DB=&gt;MWB:Des Sens Cool Load [W]</th>\n",
       "      <th>ROOM_1_A16AB98E:CANBERRA ANN HTG 99.6% CONDNS DB:Des Heat Mass Flow [kg/s]</th>\n",
       "      <th>ROOM_1_A16AB98E:CANBERRA ANN CLG .4% CONDNS DB=&gt;MWB:Des Cool Mass Flow [kg/s]</th>\n",
       "      <th>ROOM_1_A16AB98E::Des Latent Heat Load [W]</th>\n",
       "      <th>ROOM_1_A16AB98E::Des Latent Cool Load [W]</th>\n",
       "      <th>ROOM_1_A16AB98E::Des Latent Heat Mass Flow [kg/s]</th>\n",
       "      <th>ROOM_1_A16AB98E::Des Latent Cool Mass Flow [kg/s]</th>\n",
       "      <th>ROOM_1_A16AB98E::Des Heat Load No DOAS [W]</th>\n",
       "      <th>ROOM_1_A16AB98E::Des Sens Cool Load No DOAS [W]</th>\n",
       "      <th>ROOM_1_A16AB98E::Des Latent Heat Load No DOAS [W]</th>\n",
       "      <th>ROOM_1_A16AB98E::Des Latent Cool Load No DOAS [W]</th>\n",
       "      <th>ROOM_1_A16AB98E:CANBERRA ANN HTG 99.6% CONDNS DB:Heating Zone Temperature [C]</th>\n",
       "      <th>ROOM_1_A16AB98E:CANBERRA ANN HTG 99.6% CONDNS DB:Heating Zone Relative Humidity [%]</th>\n",
       "      <th>ROOM_1_A16AB98E:CANBERRA ANN CLG .4% CONDNS DB=&gt;MWB:Cooling Zone Temperature [C]</th>\n",
       "      <th>ROOM_1_A16AB98E:CANBERRA ANN CLG .4% CONDNS DB=&gt;MWB:Cooling Zone Relative Humidity [%]</th>\n",
       "    </tr>\n",
       "  </thead>\n",
       "  <tbody>\n",
       "    <tr>\n",
       "      <th>0</th>\n",
       "      <td>00:10:00</td>\n",
       "      <td>0.0</td>\n",
       "      <td>58773.36</td>\n",
       "      <td>0.0</td>\n",
       "      <td>2.742131</td>\n",
       "      <td>0.0</td>\n",
       "      <td>0.0</td>\n",
       "      <td>0.0</td>\n",
       "      <td>0.0</td>\n",
       "      <td>0.0</td>\n",
       "      <td>0.0</td>\n",
       "      <td>0.0</td>\n",
       "      <td>0.0</td>\n",
       "      <td>35.0</td>\n",
       "      <td>22.65795</td>\n",
       "      <td>35.0</td>\n",
       "      <td>22.65795</td>\n",
       "    </tr>\n",
       "    <tr>\n",
       "      <th>1</th>\n",
       "      <td>00:20:00</td>\n",
       "      <td>0.0</td>\n",
       "      <td>58726.31</td>\n",
       "      <td>0.0</td>\n",
       "      <td>2.739936</td>\n",
       "      <td>0.0</td>\n",
       "      <td>0.0</td>\n",
       "      <td>0.0</td>\n",
       "      <td>0.0</td>\n",
       "      <td>0.0</td>\n",
       "      <td>0.0</td>\n",
       "      <td>0.0</td>\n",
       "      <td>0.0</td>\n",
       "      <td>35.0</td>\n",
       "      <td>22.65795</td>\n",
       "      <td>35.0</td>\n",
       "      <td>22.65795</td>\n",
       "    </tr>\n",
       "    <tr>\n",
       "      <th>2</th>\n",
       "      <td>00:30:00</td>\n",
       "      <td>0.0</td>\n",
       "      <td>58680.09</td>\n",
       "      <td>0.0</td>\n",
       "      <td>2.737779</td>\n",
       "      <td>0.0</td>\n",
       "      <td>0.0</td>\n",
       "      <td>0.0</td>\n",
       "      <td>0.0</td>\n",
       "      <td>0.0</td>\n",
       "      <td>0.0</td>\n",
       "      <td>0.0</td>\n",
       "      <td>0.0</td>\n",
       "      <td>35.0</td>\n",
       "      <td>22.65795</td>\n",
       "      <td>35.0</td>\n",
       "      <td>22.65795</td>\n",
       "    </tr>\n",
       "    <tr>\n",
       "      <th>3</th>\n",
       "      <td>00:40:00</td>\n",
       "      <td>0.0</td>\n",
       "      <td>58634.68</td>\n",
       "      <td>0.0</td>\n",
       "      <td>2.735660</td>\n",
       "      <td>0.0</td>\n",
       "      <td>0.0</td>\n",
       "      <td>0.0</td>\n",
       "      <td>0.0</td>\n",
       "      <td>0.0</td>\n",
       "      <td>0.0</td>\n",
       "      <td>0.0</td>\n",
       "      <td>0.0</td>\n",
       "      <td>35.0</td>\n",
       "      <td>22.65795</td>\n",
       "      <td>35.0</td>\n",
       "      <td>22.65795</td>\n",
       "    </tr>\n",
       "    <tr>\n",
       "      <th>4</th>\n",
       "      <td>00:50:00</td>\n",
       "      <td>0.0</td>\n",
       "      <td>58590.05</td>\n",
       "      <td>0.0</td>\n",
       "      <td>2.733578</td>\n",
       "      <td>0.0</td>\n",
       "      <td>0.0</td>\n",
       "      <td>0.0</td>\n",
       "      <td>0.0</td>\n",
       "      <td>0.0</td>\n",
       "      <td>0.0</td>\n",
       "      <td>0.0</td>\n",
       "      <td>0.0</td>\n",
       "      <td>35.0</td>\n",
       "      <td>22.65795</td>\n",
       "      <td>35.0</td>\n",
       "      <td>22.65795</td>\n",
       "    </tr>\n",
       "  </tbody>\n",
       "</table>\n",
       "</div>"
      ],
      "text/plain": [
       "       Time  \\\n",
       "0  00:10:00   \n",
       "1  00:20:00   \n",
       "2  00:30:00   \n",
       "3  00:40:00   \n",
       "4  00:50:00   \n",
       "\n",
       "   ROOM_1_A16AB98E:CANBERRA ANN HTG 99.6% CONDNS DB:Des Heat Load [W]  \\\n",
       "0                                                0.0                    \n",
       "1                                                0.0                    \n",
       "2                                                0.0                    \n",
       "3                                                0.0                    \n",
       "4                                                0.0                    \n",
       "\n",
       "   ROOM_1_A16AB98E:CANBERRA ANN CLG .4% CONDNS DB=>MWB:Des Sens Cool Load [W]  \\\n",
       "0                                           58773.36                            \n",
       "1                                           58726.31                            \n",
       "2                                           58680.09                            \n",
       "3                                           58634.68                            \n",
       "4                                           58590.05                            \n",
       "\n",
       "   ROOM_1_A16AB98E:CANBERRA ANN HTG 99.6% CONDNS DB:Des Heat Mass Flow [kg/s]  \\\n",
       "0                                                0.0                            \n",
       "1                                                0.0                            \n",
       "2                                                0.0                            \n",
       "3                                                0.0                            \n",
       "4                                                0.0                            \n",
       "\n",
       "   ROOM_1_A16AB98E:CANBERRA ANN CLG .4% CONDNS DB=>MWB:Des Cool Mass Flow [kg/s]  \\\n",
       "0                                           2.742131                               \n",
       "1                                           2.739936                               \n",
       "2                                           2.737779                               \n",
       "3                                           2.735660                               \n",
       "4                                           2.733578                               \n",
       "\n",
       "   ROOM_1_A16AB98E::Des Latent Heat Load [W]  \\\n",
       "0                                        0.0   \n",
       "1                                        0.0   \n",
       "2                                        0.0   \n",
       "3                                        0.0   \n",
       "4                                        0.0   \n",
       "\n",
       "   ROOM_1_A16AB98E::Des Latent Cool Load [W]  \\\n",
       "0                                        0.0   \n",
       "1                                        0.0   \n",
       "2                                        0.0   \n",
       "3                                        0.0   \n",
       "4                                        0.0   \n",
       "\n",
       "   ROOM_1_A16AB98E::Des Latent Heat Mass Flow [kg/s]  \\\n",
       "0                                                0.0   \n",
       "1                                                0.0   \n",
       "2                                                0.0   \n",
       "3                                                0.0   \n",
       "4                                                0.0   \n",
       "\n",
       "   ROOM_1_A16AB98E::Des Latent Cool Mass Flow [kg/s]  \\\n",
       "0                                                0.0   \n",
       "1                                                0.0   \n",
       "2                                                0.0   \n",
       "3                                                0.0   \n",
       "4                                                0.0   \n",
       "\n",
       "   ROOM_1_A16AB98E::Des Heat Load No DOAS [W]  \\\n",
       "0                                         0.0   \n",
       "1                                         0.0   \n",
       "2                                         0.0   \n",
       "3                                         0.0   \n",
       "4                                         0.0   \n",
       "\n",
       "   ROOM_1_A16AB98E::Des Sens Cool Load No DOAS [W]  \\\n",
       "0                                              0.0   \n",
       "1                                              0.0   \n",
       "2                                              0.0   \n",
       "3                                              0.0   \n",
       "4                                              0.0   \n",
       "\n",
       "   ROOM_1_A16AB98E::Des Latent Heat Load No DOAS [W]  \\\n",
       "0                                                0.0   \n",
       "1                                                0.0   \n",
       "2                                                0.0   \n",
       "3                                                0.0   \n",
       "4                                                0.0   \n",
       "\n",
       "   ROOM_1_A16AB98E::Des Latent Cool Load No DOAS [W]  \\\n",
       "0                                                0.0   \n",
       "1                                                0.0   \n",
       "2                                                0.0   \n",
       "3                                                0.0   \n",
       "4                                                0.0   \n",
       "\n",
       "   ROOM_1_A16AB98E:CANBERRA ANN HTG 99.6% CONDNS DB:Heating Zone Temperature [C]  \\\n",
       "0                                               35.0                               \n",
       "1                                               35.0                               \n",
       "2                                               35.0                               \n",
       "3                                               35.0                               \n",
       "4                                               35.0                               \n",
       "\n",
       "   ROOM_1_A16AB98E:CANBERRA ANN HTG 99.6% CONDNS DB:Heating Zone Relative Humidity [%]  \\\n",
       "0                                           22.65795                                     \n",
       "1                                           22.65795                                     \n",
       "2                                           22.65795                                     \n",
       "3                                           22.65795                                     \n",
       "4                                           22.65795                                     \n",
       "\n",
       "   ROOM_1_A16AB98E:CANBERRA ANN CLG .4% CONDNS DB=>MWB:Cooling Zone Temperature [C]  \\\n",
       "0                                               35.0                                  \n",
       "1                                               35.0                                  \n",
       "2                                               35.0                                  \n",
       "3                                               35.0                                  \n",
       "4                                               35.0                                  \n",
       "\n",
       "   ROOM_1_A16AB98E:CANBERRA ANN CLG .4% CONDNS DB=>MWB:Cooling Zone Relative Humidity [%]  \n",
       "0                                           22.65795                                       \n",
       "1                                           22.65795                                       \n",
       "2                                           22.65795                                       \n",
       "3                                           22.65795                                       \n",
       "4                                           22.65795                                       "
      ]
     },
     "execution_count": 2,
     "metadata": {},
     "output_type": "execute_result"
    }
   ],
   "source": [
    "# Replace with the filepath to your csv file\n",
    "file_path = \"C:/Users/arjyo/simulation/unnamed/openstudio/run/epluszsz.csv\"\n",
    "\n",
    "# Read the Excel file into a DataFrame\n",
    "df = pd.read_csv(file_path)\n",
    "\n",
    "\n",
    "df.head()"
   ]
  },
  {
   "cell_type": "code",
   "execution_count": 3,
   "id": "eb46cb34",
   "metadata": {},
   "outputs": [
    {
     "data": {
      "text/plain": [
       "(146, 17)"
      ]
     },
     "execution_count": 3,
     "metadata": {},
     "output_type": "execute_result"
    }
   ],
   "source": [
    "df.shape"
   ]
  },
  {
   "cell_type": "code",
   "execution_count": 4,
   "id": "8762785c",
   "metadata": {},
   "outputs": [
    {
     "data": {
      "text/plain": [
       "Index(['Time',\n",
       "       'ROOM_1_A16AB98E:CANBERRA ANN HTG 99.6% CONDNS DB:Des Heat Load [W]',\n",
       "       'ROOM_1_A16AB98E:CANBERRA ANN CLG .4% CONDNS DB=>MWB:Des Sens Cool Load [W]',\n",
       "       'ROOM_1_A16AB98E:CANBERRA ANN HTG 99.6% CONDNS DB:Des Heat Mass Flow [kg/s]',\n",
       "       'ROOM_1_A16AB98E:CANBERRA ANN CLG .4% CONDNS DB=>MWB:Des Cool Mass Flow [kg/s]',\n",
       "       'ROOM_1_A16AB98E::Des Latent Heat Load [W]',\n",
       "       'ROOM_1_A16AB98E::Des Latent Cool Load [W]',\n",
       "       'ROOM_1_A16AB98E::Des Latent Heat Mass Flow [kg/s]',\n",
       "       'ROOM_1_A16AB98E::Des Latent Cool Mass Flow [kg/s]',\n",
       "       'ROOM_1_A16AB98E::Des Heat Load No DOAS [W]',\n",
       "       'ROOM_1_A16AB98E::Des Sens Cool Load No DOAS [W]',\n",
       "       'ROOM_1_A16AB98E::Des Latent Heat Load No DOAS [W]',\n",
       "       'ROOM_1_A16AB98E::Des Latent Cool Load No DOAS [W]',\n",
       "       'ROOM_1_A16AB98E:CANBERRA ANN HTG 99.6% CONDNS DB:Heating Zone Temperature [C]',\n",
       "       'ROOM_1_A16AB98E:CANBERRA ANN HTG 99.6% CONDNS DB:Heating Zone Relative Humidity [%]',\n",
       "       'ROOM_1_A16AB98E:CANBERRA ANN CLG .4% CONDNS DB=>MWB:Cooling Zone Temperature [C]',\n",
       "       'ROOM_1_A16AB98E:CANBERRA ANN CLG .4% CONDNS DB=>MWB:Cooling Zone Relative Humidity [%]'],\n",
       "      dtype='object')"
      ]
     },
     "execution_count": 4,
     "metadata": {},
     "output_type": "execute_result"
    }
   ],
   "source": [
    "df.columns"
   ]
  },
  {
   "cell_type": "code",
   "execution_count": 5,
   "id": "2db27a34",
   "metadata": {},
   "outputs": [],
   "source": [
    "# Identify columns with all observations as 0\n",
    "columns_to_remove = df.columns[df.all() == 0]\n",
    "\n"
   ]
  },
  {
   "cell_type": "code",
   "execution_count": 6,
   "id": "4788a459",
   "metadata": {},
   "outputs": [],
   "source": [
    "# Drop columns with all observations as 0\n",
    "df = df.drop(columns=columns_to_remove)"
   ]
  },
  {
   "cell_type": "code",
   "execution_count": 7,
   "id": "5e8cd66e",
   "metadata": {},
   "outputs": [
    {
     "data": {
      "text/plain": [
       "(146, 7)"
      ]
     },
     "execution_count": 7,
     "metadata": {},
     "output_type": "execute_result"
    }
   ],
   "source": [
    "df.shape"
   ]
  },
  {
   "cell_type": "code",
   "execution_count": 8,
   "id": "1d811756",
   "metadata": {},
   "outputs": [
    {
     "data": {
      "text/plain": [
       "Index(['Time',\n",
       "       'ROOM_1_A16AB98E:CANBERRA ANN CLG .4% CONDNS DB=>MWB:Des Sens Cool Load [W]',\n",
       "       'ROOM_1_A16AB98E:CANBERRA ANN CLG .4% CONDNS DB=>MWB:Des Cool Mass Flow [kg/s]',\n",
       "       'ROOM_1_A16AB98E:CANBERRA ANN HTG 99.6% CONDNS DB:Heating Zone Temperature [C]',\n",
       "       'ROOM_1_A16AB98E:CANBERRA ANN HTG 99.6% CONDNS DB:Heating Zone Relative Humidity [%]',\n",
       "       'ROOM_1_A16AB98E:CANBERRA ANN CLG .4% CONDNS DB=>MWB:Cooling Zone Temperature [C]',\n",
       "       'ROOM_1_A16AB98E:CANBERRA ANN CLG .4% CONDNS DB=>MWB:Cooling Zone Relative Humidity [%]'],\n",
       "      dtype='object')"
      ]
     },
     "execution_count": 8,
     "metadata": {},
     "output_type": "execute_result"
    }
   ],
   "source": [
    "df.columns"
   ]
  },
  {
   "cell_type": "code",
   "execution_count": 9,
   "id": "24fd1b65",
   "metadata": {
    "scrolled": true
   },
   "outputs": [
    {
     "data": {
      "text/plain": [
       "<bound method NDFrame.head of                      Time  \\\n",
       "0                00:10:00   \n",
       "1                00:20:00   \n",
       "2                00:30:00   \n",
       "3                00:40:00   \n",
       "4                00:50:00   \n",
       "..                    ...   \n",
       "141              23:40:00   \n",
       "142              23:50:00   \n",
       "143              24:00:00   \n",
       "144                  Peak   \n",
       "145  Peak Vol Flow (m3/s)   \n",
       "\n",
       "     ROOM_1_A16AB98E:CANBERRA ANN CLG .4% CONDNS DB=>MWB:Des Sens Cool Load [W]  \\\n",
       "0                                             58773.36                            \n",
       "1                                             58726.31                            \n",
       "2                                             58680.09                            \n",
       "3                                             58634.68                            \n",
       "4                                             58590.05                            \n",
       "..                                                 ...                            \n",
       "141                                           58861.37                            \n",
       "142                                           58840.95                            \n",
       "143                                           58821.30                            \n",
       "144                                           61003.29                            \n",
       "145                                                NaN                            \n",
       "\n",
       "     ROOM_1_A16AB98E:CANBERRA ANN CLG .4% CONDNS DB=>MWB:Des Cool Mass Flow [kg/s]  \\\n",
       "0                                             2.742131                               \n",
       "1                                             2.739936                               \n",
       "2                                             2.737779                               \n",
       "3                                             2.735660                               \n",
       "4                                             2.733578                               \n",
       "..                                                 ...                               \n",
       "141                                           2.746237                               \n",
       "142                                           2.745284                               \n",
       "143                                           2.744367                               \n",
       "144                                           2.846171                               \n",
       "145                                           2.531792                               \n",
       "\n",
       "     ROOM_1_A16AB98E:CANBERRA ANN HTG 99.6% CONDNS DB:Heating Zone Temperature [C]  \\\n",
       "0                                                 35.0                               \n",
       "1                                                 35.0                               \n",
       "2                                                 35.0                               \n",
       "3                                                 35.0                               \n",
       "4                                                 35.0                               \n",
       "..                                                 ...                               \n",
       "141                                               35.0                               \n",
       "142                                               35.0                               \n",
       "143                                               35.0                               \n",
       "144                                                NaN                               \n",
       "145                                                NaN                               \n",
       "\n",
       "     ROOM_1_A16AB98E:CANBERRA ANN HTG 99.6% CONDNS DB:Heating Zone Relative Humidity [%]  \\\n",
       "0                                             22.65795                                     \n",
       "1                                             22.65795                                     \n",
       "2                                             22.65795                                     \n",
       "3                                             22.65795                                     \n",
       "4                                             22.65795                                     \n",
       "..                                                 ...                                     \n",
       "141                                           22.65795                                     \n",
       "142                                           22.65795                                     \n",
       "143                                           22.65795                                     \n",
       "144                                                NaN                                     \n",
       "145                                                NaN                                     \n",
       "\n",
       "     ROOM_1_A16AB98E:CANBERRA ANN CLG .4% CONDNS DB=>MWB:Cooling Zone Temperature [C]  \\\n",
       "0                                                 35.0                                  \n",
       "1                                                 35.0                                  \n",
       "2                                                 35.0                                  \n",
       "3                                                 35.0                                  \n",
       "4                                                 35.0                                  \n",
       "..                                                 ...                                  \n",
       "141                                               35.0                                  \n",
       "142                                               35.0                                  \n",
       "143                                               35.0                                  \n",
       "144                                                NaN                                  \n",
       "145                                                NaN                                  \n",
       "\n",
       "     ROOM_1_A16AB98E:CANBERRA ANN CLG .4% CONDNS DB=>MWB:Cooling Zone Relative Humidity [%]  \n",
       "0                                             22.65795                                       \n",
       "1                                             22.65795                                       \n",
       "2                                             22.65795                                       \n",
       "3                                             22.65795                                       \n",
       "4                                             22.65795                                       \n",
       "..                                                 ...                                       \n",
       "141                                           22.65795                                       \n",
       "142                                           22.65795                                       \n",
       "143                                           22.65795                                       \n",
       "144                                                NaN                                       \n",
       "145                                                NaN                                       \n",
       "\n",
       "[146 rows x 7 columns]>"
      ]
     },
     "execution_count": 9,
     "metadata": {},
     "output_type": "execute_result"
    }
   ],
   "source": [
    "df.head"
   ]
  },
  {
   "cell_type": "code",
   "execution_count": 10,
   "id": "9b95dc45",
   "metadata": {
    "scrolled": true
   },
   "outputs": [],
   "source": [
    "correlation_matrix = df.corr()\n",
    "\n"
   ]
  },
  {
   "cell_type": "code",
   "execution_count": 11,
   "id": "543ae1fe",
   "metadata": {},
   "outputs": [
    {
     "name": "stderr",
     "output_type": "stream",
     "text": [
      "C:\\Users\\arjyo\\AppData\\Local\\Temp\\ipykernel_8760\\2592078273.py:1: FutureWarning: this method is deprecated in favour of `Styler.format(precision=..)`\n",
      "  styled_table = correlation_matrix.style.background_gradient(cmap='coolwarm', axis=None).set_precision(2)\n"
     ]
    },
    {
     "data": {
      "text/html": [
       "<style type=\"text/css\">\n",
       "#T_54dc0_row0_col0, #T_54dc0_row1_col1 {\n",
       "  background-color: #b40426;\n",
       "  color: #f1f1f1;\n",
       "}\n",
       "#T_54dc0_row0_col1, #T_54dc0_row1_col0 {\n",
       "  background-color: #3b4cc0;\n",
       "  color: #f1f1f1;\n",
       "}\n",
       "#T_54dc0_row0_col2, #T_54dc0_row0_col3, #T_54dc0_row0_col4, #T_54dc0_row0_col5, #T_54dc0_row1_col2, #T_54dc0_row1_col3, #T_54dc0_row1_col4, #T_54dc0_row1_col5, #T_54dc0_row2_col0, #T_54dc0_row2_col1, #T_54dc0_row2_col2, #T_54dc0_row2_col3, #T_54dc0_row2_col4, #T_54dc0_row2_col5, #T_54dc0_row3_col0, #T_54dc0_row3_col1, #T_54dc0_row3_col2, #T_54dc0_row3_col3, #T_54dc0_row3_col4, #T_54dc0_row3_col5, #T_54dc0_row4_col0, #T_54dc0_row4_col1, #T_54dc0_row4_col2, #T_54dc0_row4_col3, #T_54dc0_row4_col4, #T_54dc0_row4_col5, #T_54dc0_row5_col0, #T_54dc0_row5_col1, #T_54dc0_row5_col2, #T_54dc0_row5_col3, #T_54dc0_row5_col4, #T_54dc0_row5_col5 {\n",
       "  background-color: #000000;\n",
       "  color: #f1f1f1;\n",
       "}\n",
       "</style>\n",
       "<table id=\"T_54dc0\">\n",
       "  <thead>\n",
       "    <tr>\n",
       "      <th class=\"blank level0\" >&nbsp;</th>\n",
       "      <th id=\"T_54dc0_level0_col0\" class=\"col_heading level0 col0\" >ROOM_1_A16AB98E:CANBERRA ANN CLG .4% CONDNS DB=>MWB:Des Sens Cool Load [W]</th>\n",
       "      <th id=\"T_54dc0_level0_col1\" class=\"col_heading level0 col1\" >ROOM_1_A16AB98E:CANBERRA ANN CLG .4% CONDNS DB=>MWB:Des Cool Mass Flow [kg/s]</th>\n",
       "      <th id=\"T_54dc0_level0_col2\" class=\"col_heading level0 col2\" >ROOM_1_A16AB98E:CANBERRA ANN HTG 99.6% CONDNS DB:Heating Zone Temperature [C]</th>\n",
       "      <th id=\"T_54dc0_level0_col3\" class=\"col_heading level0 col3\" >ROOM_1_A16AB98E:CANBERRA ANN HTG 99.6% CONDNS DB:Heating Zone Relative Humidity [%]</th>\n",
       "      <th id=\"T_54dc0_level0_col4\" class=\"col_heading level0 col4\" >ROOM_1_A16AB98E:CANBERRA ANN CLG .4% CONDNS DB=>MWB:Cooling Zone Temperature [C]</th>\n",
       "      <th id=\"T_54dc0_level0_col5\" class=\"col_heading level0 col5\" >ROOM_1_A16AB98E:CANBERRA ANN CLG .4% CONDNS DB=>MWB:Cooling Zone Relative Humidity [%]</th>\n",
       "    </tr>\n",
       "  </thead>\n",
       "  <tbody>\n",
       "    <tr>\n",
       "      <th id=\"T_54dc0_level0_row0\" class=\"row_heading level0 row0\" >ROOM_1_A16AB98E:CANBERRA ANN CLG .4% CONDNS DB=>MWB:Des Sens Cool Load [W]</th>\n",
       "      <td id=\"T_54dc0_row0_col0\" class=\"data row0 col0\" >1.00</td>\n",
       "      <td id=\"T_54dc0_row0_col1\" class=\"data row0 col1\" >1.00</td>\n",
       "      <td id=\"T_54dc0_row0_col2\" class=\"data row0 col2\" >nan</td>\n",
       "      <td id=\"T_54dc0_row0_col3\" class=\"data row0 col3\" >nan</td>\n",
       "      <td id=\"T_54dc0_row0_col4\" class=\"data row0 col4\" >nan</td>\n",
       "      <td id=\"T_54dc0_row0_col5\" class=\"data row0 col5\" >nan</td>\n",
       "    </tr>\n",
       "    <tr>\n",
       "      <th id=\"T_54dc0_level0_row1\" class=\"row_heading level0 row1\" >ROOM_1_A16AB98E:CANBERRA ANN CLG .4% CONDNS DB=>MWB:Des Cool Mass Flow [kg/s]</th>\n",
       "      <td id=\"T_54dc0_row1_col0\" class=\"data row1 col0\" >1.00</td>\n",
       "      <td id=\"T_54dc0_row1_col1\" class=\"data row1 col1\" >1.00</td>\n",
       "      <td id=\"T_54dc0_row1_col2\" class=\"data row1 col2\" >nan</td>\n",
       "      <td id=\"T_54dc0_row1_col3\" class=\"data row1 col3\" >nan</td>\n",
       "      <td id=\"T_54dc0_row1_col4\" class=\"data row1 col4\" >nan</td>\n",
       "      <td id=\"T_54dc0_row1_col5\" class=\"data row1 col5\" >nan</td>\n",
       "    </tr>\n",
       "    <tr>\n",
       "      <th id=\"T_54dc0_level0_row2\" class=\"row_heading level0 row2\" >ROOM_1_A16AB98E:CANBERRA ANN HTG 99.6% CONDNS DB:Heating Zone Temperature [C]</th>\n",
       "      <td id=\"T_54dc0_row2_col0\" class=\"data row2 col0\" >nan</td>\n",
       "      <td id=\"T_54dc0_row2_col1\" class=\"data row2 col1\" >nan</td>\n",
       "      <td id=\"T_54dc0_row2_col2\" class=\"data row2 col2\" >nan</td>\n",
       "      <td id=\"T_54dc0_row2_col3\" class=\"data row2 col3\" >nan</td>\n",
       "      <td id=\"T_54dc0_row2_col4\" class=\"data row2 col4\" >nan</td>\n",
       "      <td id=\"T_54dc0_row2_col5\" class=\"data row2 col5\" >nan</td>\n",
       "    </tr>\n",
       "    <tr>\n",
       "      <th id=\"T_54dc0_level0_row3\" class=\"row_heading level0 row3\" >ROOM_1_A16AB98E:CANBERRA ANN HTG 99.6% CONDNS DB:Heating Zone Relative Humidity [%]</th>\n",
       "      <td id=\"T_54dc0_row3_col0\" class=\"data row3 col0\" >nan</td>\n",
       "      <td id=\"T_54dc0_row3_col1\" class=\"data row3 col1\" >nan</td>\n",
       "      <td id=\"T_54dc0_row3_col2\" class=\"data row3 col2\" >nan</td>\n",
       "      <td id=\"T_54dc0_row3_col3\" class=\"data row3 col3\" >nan</td>\n",
       "      <td id=\"T_54dc0_row3_col4\" class=\"data row3 col4\" >nan</td>\n",
       "      <td id=\"T_54dc0_row3_col5\" class=\"data row3 col5\" >nan</td>\n",
       "    </tr>\n",
       "    <tr>\n",
       "      <th id=\"T_54dc0_level0_row4\" class=\"row_heading level0 row4\" >ROOM_1_A16AB98E:CANBERRA ANN CLG .4% CONDNS DB=>MWB:Cooling Zone Temperature [C]</th>\n",
       "      <td id=\"T_54dc0_row4_col0\" class=\"data row4 col0\" >nan</td>\n",
       "      <td id=\"T_54dc0_row4_col1\" class=\"data row4 col1\" >nan</td>\n",
       "      <td id=\"T_54dc0_row4_col2\" class=\"data row4 col2\" >nan</td>\n",
       "      <td id=\"T_54dc0_row4_col3\" class=\"data row4 col3\" >nan</td>\n",
       "      <td id=\"T_54dc0_row4_col4\" class=\"data row4 col4\" >nan</td>\n",
       "      <td id=\"T_54dc0_row4_col5\" class=\"data row4 col5\" >nan</td>\n",
       "    </tr>\n",
       "    <tr>\n",
       "      <th id=\"T_54dc0_level0_row5\" class=\"row_heading level0 row5\" >ROOM_1_A16AB98E:CANBERRA ANN CLG .4% CONDNS DB=>MWB:Cooling Zone Relative Humidity [%]</th>\n",
       "      <td id=\"T_54dc0_row5_col0\" class=\"data row5 col0\" >nan</td>\n",
       "      <td id=\"T_54dc0_row5_col1\" class=\"data row5 col1\" >nan</td>\n",
       "      <td id=\"T_54dc0_row5_col2\" class=\"data row5 col2\" >nan</td>\n",
       "      <td id=\"T_54dc0_row5_col3\" class=\"data row5 col3\" >nan</td>\n",
       "      <td id=\"T_54dc0_row5_col4\" class=\"data row5 col4\" >nan</td>\n",
       "      <td id=\"T_54dc0_row5_col5\" class=\"data row5 col5\" >nan</td>\n",
       "    </tr>\n",
       "  </tbody>\n",
       "</table>\n"
      ],
      "text/plain": [
       "<pandas.io.formats.style.Styler at 0x1cb30f95ac0>"
      ]
     },
     "execution_count": 11,
     "metadata": {},
     "output_type": "execute_result"
    }
   ],
   "source": [
    "styled_table = correlation_matrix.style.background_gradient(cmap='coolwarm', axis=None).set_precision(2)\n",
    "\n",
    "styled_table"
   ]
  },
  {
   "cell_type": "code",
   "execution_count": 12,
   "id": "069257b7",
   "metadata": {
    "scrolled": true
   },
   "outputs": [
    {
     "data": {
      "image/png": "[encoded data removed]",
      "text/plain": [
       "<Figure size 720x288 with 1 Axes>"
      ]
     },
     "metadata": {
      "needs_background": "light"
     },
     "output_type": "display_data"
    }
   ],
   "source": [
    "df.iloc[:, 1].plot(figsize=(10, 4))\n",
    "plt.title('Time Series Data Visualization')\n",
    "plt.xlabel('Time ID')\n",
    "plt.ylabel('Sens Cool Load [W]')\n",
    "plt.show()"
   ]
  },
  {
   "cell_type": "code",
   "execution_count": 13,
   "id": "c7e04108",
   "metadata": {},
   "outputs": [
    {
     "data": {
      "image/png": "[encoded data removed]",
      "text/plain": [
       "<Figure size 720x288 with 1 Axes>"
      ]
     },
     "metadata": {
      "needs_background": "light"
     },
     "output_type": "display_data"
    }
   ],
   "source": [
    "df.iloc[:, 2].plot(figsize=(10, 4))\n",
    "plt.title('Time Series Data Visualization')\n",
    "plt.xlabel('Time ID')\n",
    "plt.ylabel('Cool Mass Flow [kg/s]')\n",
    "plt.show()"
   ]
  },
  {
   "cell_type": "code",
   "execution_count": 14,
   "id": "f84bfe38",
   "metadata": {
    "scrolled": false
   },
   "outputs": [
    {
     "data": {
      "image/png": "[encoded data removed]",
      "text/plain": [
       "<Figure size 720x288 with 1 Axes>"
      ]
     },
     "metadata": {
      "needs_background": "light"
     },
     "output_type": "display_data"
    }
   ],
   "source": [
    "df.iloc[:,5].plot(figsize=(10, 4))\n",
    "plt.title('Time Series Data Visualization')\n",
    "plt.xlabel('Time of day')\n",
    "plt.ylabel('Cooling Zone Temperature [C]')\n",
    "plt.show()"
   ]
  },
  {
   "cell_type": "code",
   "execution_count": 15,
   "id": "262ff65b",
   "metadata": {
    "scrolled": true
   },
   "outputs": [
    {
     "data": {
      "image/png": "[encoded data removed]",
      "text/plain": [
       "<Figure size 720x288 with 1 Axes>"
      ]
     },
     "metadata": {
      "needs_background": "light"
     },
     "output_type": "display_data"
    }
   ],
   "source": [
    "df.iloc[:,6].plot(figsize=(10, 4))\n",
    "plt.title('Time Series Data Visualization')\n",
    "plt.xlabel('Time of day')\n",
    "plt.ylabel('Cooling Zone Relative Humidity')\n",
    "plt.show()"
   ]
  },
  {
   "cell_type": "markdown",
   "id": "29dda443",
   "metadata": {},
   "source": [
    "Regression modelling of time-series data"
   ]
  },
  {
   "cell_type": "code",
   "execution_count": 16,
   "id": "cdb412c3",
   "metadata": {},
   "outputs": [
    {
     "data": {
      "text/plain": [
       "<bound method NDFrame.head of                      Time  \\\n",
       "0                00:10:00   \n",
       "1                00:20:00   \n",
       "2                00:30:00   \n",
       "3                00:40:00   \n",
       "4                00:50:00   \n",
       "..                    ...   \n",
       "141              23:40:00   \n",
       "142              23:50:00   \n",
       "143              24:00:00   \n",
       "144                  Peak   \n",
       "145  Peak Vol Flow (m3/s)   \n",
       "\n",
       "     ROOM_1_A16AB98E:CANBERRA ANN CLG .4% CONDNS DB=>MWB:Des Sens Cool Load [W]  \\\n",
       "0                                             58773.36                            \n",
       "1                                             58726.31                            \n",
       "2                                             58680.09                            \n",
       "3                                             58634.68                            \n",
       "4                                             58590.05                            \n",
       "..                                                 ...                            \n",
       "141                                           58861.37                            \n",
       "142                                           58840.95                            \n",
       "143                                           58821.30                            \n",
       "144                                           61003.29                            \n",
       "145                                                NaN                            \n",
       "\n",
       "     ROOM_1_A16AB98E:CANBERRA ANN CLG .4% CONDNS DB=>MWB:Des Cool Mass Flow [kg/s]  \n",
       "0                                             2.742131                              \n",
       "1                                             2.739936                              \n",
       "2                                             2.737779                              \n",
       "3                                             2.735660                              \n",
       "4                                             2.733578                              \n",
       "..                                                 ...                              \n",
       "141                                           2.746237                              \n",
       "142                                           2.745284                              \n",
       "143                                           2.744367                              \n",
       "144                                           2.846171                              \n",
       "145                                           2.531792                              \n",
       "\n",
       "[146 rows x 3 columns]>"
      ]
     },
     "execution_count": 16,
     "metadata": {},
     "output_type": "execute_result"
    }
   ],
   "source": [
    "#subsetting the time series data\n",
    "\n",
    "df_new=df.iloc[:,0:3]\n",
    "\n",
    "df_new.head"
   ]
  },
  {
   "cell_type": "code",
   "execution_count": 17,
   "id": "9c7db609",
   "metadata": {},
   "outputs": [],
   "source": [
    "ts=df_new.iloc[:,1].dropna()"
   ]
  },
  {
   "cell_type": "code",
   "execution_count": 18,
   "id": "bcc71a78",
   "metadata": {},
   "outputs": [
    {
     "data": {
      "text/plain": [
       "(145,)"
      ]
     },
     "execution_count": 18,
     "metadata": {},
     "output_type": "execute_result"
    }
   ],
   "source": [
    "ts.shape"
   ]
  },
  {
   "cell_type": "code",
   "execution_count": 19,
   "id": "625737f2",
   "metadata": {},
   "outputs": [
    {
     "name": "stdout",
     "output_type": "stream",
     "text": [
      "ADF Statistic: -0.9388379101718107\n",
      "p-value: 0.7749137094750742\n",
      "Critical Values: {'1%': -3.4769274060112707, '5%': -2.8819726324025625, '10%': -2.577665408088415}\n"
     ]
    },
    {
     "data": {
      "image/png": "[encoded data removed]",
      "text/plain": [
       "<Figure size 864x432 with 1 Axes>"
      ]
     },
     "metadata": {
      "needs_background": "light"
     },
     "output_type": "display_data"
    }
   ],
   "source": [
    "#Check for stationarity (constant statistical properties over time) and consider differencing\n",
    "from statsmodels.tsa.stattools import adfuller\n",
    "\n",
    "# Function to perform ADF test and visualize the time series\n",
    "def test_stationarity(timeseries):\n",
    "    # Calculate rolling statistics\n",
    "    rolling_mean = timeseries.rolling(window=12).mean()\n",
    "    rolling_std = timeseries.rolling(window=12).std()\n",
    "\n",
    "    # Perform Dickey-Fuller test\n",
    "    adf_result = adfuller(timeseries, autolag='AIC')\n",
    "    print('ADF Statistic:', adf_result[0])\n",
    "    print('p-value:', adf_result[1])\n",
    "    print('Critical Values:', adf_result[4])\n",
    "\n",
    "    # Plot rolling statistics\n",
    "    plt.figure(figsize=(12, 6))\n",
    "    plt.plot(timeseries, label='Original')\n",
    "    plt.plot(rolling_mean, label='Rolling Mean')\n",
    "    plt.plot(rolling_std, label='Rolling Std')\n",
    "    plt.legend()\n",
    "    plt.title('Original Time Series and Rolling Statistics')\n",
    "    plt.show()\n",
    "\n",
    "# Check stationarity\n",
    "test_stationarity(ts)"
   ]
  },
  {
   "cell_type": "markdown",
   "id": "21c9ab59",
   "metadata": {},
   "source": [
    "The p-value of 0.7747 is greater than the common significance level of 0.05, which means we fail to reject the null hypothesis that the time series is non-stationary.\n",
    "\n",
    "Given that the time series is non-stationary, differencing can be applied to remove trends and make it more stationary. "
   ]
  },
  {
   "cell_type": "code",
   "execution_count": 20,
   "id": "358efcb5",
   "metadata": {
    "scrolled": true
   },
   "outputs": [
    {
     "data": {
      "text/plain": [
       "<bound method NDFrame.head of          Time  \\\n",
       "0    00:10:00   \n",
       "1    00:20:00   \n",
       "2    00:30:00   \n",
       "3    00:40:00   \n",
       "4    00:50:00   \n",
       "..        ...   \n",
       "140  23:30:00   \n",
       "141  23:40:00   \n",
       "142  23:50:00   \n",
       "143  24:00:00   \n",
       "144      Peak   \n",
       "\n",
       "     ROOM_1_A16AB98E:CANBERRA ANN CLG .4% CONDNS DB=>MWB:Des Sens Cool Load [W]  \\\n",
       "0                                             58773.36                            \n",
       "1                                             58726.31                            \n",
       "2                                             58680.09                            \n",
       "3                                             58634.68                            \n",
       "4                                             58590.05                            \n",
       "..                                                 ...                            \n",
       "140                                           58882.66                            \n",
       "141                                           58861.37                            \n",
       "142                                           58840.95                            \n",
       "143                                           58821.30                            \n",
       "144                                           61003.29                            \n",
       "\n",
       "     ROOM_1_A16AB98E:CANBERRA ANN CLG .4% CONDNS DB=>MWB:Des Cool Mass Flow [kg/s]  \n",
       "0                                             2.742131                              \n",
       "1                                             2.739936                              \n",
       "2                                             2.737779                              \n",
       "3                                             2.735660                              \n",
       "4                                             2.733578                              \n",
       "..                                                 ...                              \n",
       "140                                           2.747230                              \n",
       "141                                           2.746237                              \n",
       "142                                           2.745284                              \n",
       "143                                           2.744367                              \n",
       "144                                           2.846171                              \n",
       "\n",
       "[145 rows x 3 columns]>"
      ]
     },
     "execution_count": 20,
     "metadata": {},
     "output_type": "execute_result"
    }
   ],
   "source": [
    "df_ts = df_new.dropna()\n",
    "df_ts.head"
   ]
  },
  {
   "cell_type": "code",
   "execution_count": 21,
   "id": "e5bc293a",
   "metadata": {},
   "outputs": [
    {
     "data": {
      "text/plain": [
       "['Time',\n",
       " 'ROOM_1_A16AB98E:CANBERRA ANN CLG .4% CONDNS DB=>MWB:Des Sens Cool Load [W]',\n",
       " 'ROOM_1_A16AB98E:CANBERRA ANN CLG .4% CONDNS DB=>MWB:Des Cool Mass Flow [kg/s]']"
      ]
     },
     "execution_count": 21,
     "metadata": {},
     "output_type": "execute_result"
    }
   ],
   "source": [
    "# Get the current column names\n",
    "current_columns = df_ts.columns.tolist()\n",
    "\n",
    "current_columns"
   ]
  },
  {
   "cell_type": "code",
   "execution_count": 22,
   "id": "4a20f95f",
   "metadata": {},
   "outputs": [
    {
     "data": {
      "text/plain": [
       "['Time', 'Sens_Cool_Load', 'Cool_Mass_Flow']"
      ]
     },
     "execution_count": 22,
     "metadata": {},
     "output_type": "execute_result"
    }
   ],
   "source": [
    "# new names\n",
    "current_columns[1] = 'Sens_Cool_Load'\n",
    "current_columns[2] = 'Cool_Mass_Flow'\n",
    "\n",
    "current_columns"
   ]
  },
  {
   "cell_type": "code",
   "execution_count": 23,
   "id": "63fa59f6",
   "metadata": {},
   "outputs": [],
   "source": [
    "# Set the updated column names back to the DataFrame\n",
    "df_ts.columns = current_columns"
   ]
  },
  {
   "cell_type": "code",
   "execution_count": 24,
   "id": "3955b060",
   "metadata": {
    "scrolled": true
   },
   "outputs": [
    {
     "name": "stderr",
     "output_type": "stream",
     "text": [
      "C:\\Users\\arjyo\\AppData\\Local\\Temp\\ipykernel_8760\\1476498606.py:2: SettingWithCopyWarning: \n",
      "A value is trying to be set on a copy of a slice from a DataFrame.\n",
      "Try using .loc[row_indexer,col_indexer] = value instead\n",
      "\n",
      "See the caveats in the documentation: https://pandas.pydata.org/pandas-docs/stable/user_guide/indexing.html#returning-a-view-versus-a-copy\n",
      "  df_ts['diff'] = df_ts.loc[:, 'Sens_Cool_Load'].diff()\n"
     ]
    },
    {
     "data": {
      "image/png": "[encoded data removed]",
      "text/plain": [
       "<Figure size 864x432 with 2 Axes>"
      ]
     },
     "metadata": {
      "needs_background": "light"
     },
     "output_type": "display_data"
    }
   ],
   "source": [
    "# Differencing\n",
    "df_ts['diff'] = df_ts.loc[:, 'Sens_Cool_Load'].diff()\n",
    "\n",
    "# Plot the original and differenced time series\n",
    "plt.figure(figsize=(12, 6))\n",
    "plt.subplot(2, 1, 1)\n",
    "plt.plot(df_ts['Sens_Cool_Load'])\n",
    "plt.title('Original Time Series')\n",
    "\n",
    "plt.subplot(2, 1, 2)\n",
    "plt.plot(df_ts['diff'].dropna())\n",
    "plt.title('Differenced Time Series')\n",
    "\n",
    "plt.tight_layout()\n",
    "plt.show()"
   ]
  },
  {
   "cell_type": "code",
   "execution_count": 25,
   "id": "534f8ae9",
   "metadata": {
    "scrolled": true
   },
   "outputs": [
    {
     "data": {
      "text/html": [
       "<div>\n",
       "<style scoped>\n",
       "    .dataframe tbody tr th:only-of-type {\n",
       "        vertical-align: middle;\n",
       "    }\n",
       "\n",
       "    .dataframe tbody tr th {\n",
       "        vertical-align: top;\n",
       "    }\n",
       "\n",
       "    .dataframe thead th {\n",
       "        text-align: right;\n",
       "    }\n",
       "</style>\n",
       "<table border=\"1\" class=\"dataframe\">\n",
       "  <thead>\n",
       "    <tr style=\"text-align: right;\">\n",
       "      <th></th>\n",
       "      <th>Time</th>\n",
       "      <th>Sens_Cool_Load</th>\n",
       "      <th>Cool_Mass_Flow</th>\n",
       "      <th>diff</th>\n",
       "    </tr>\n",
       "  </thead>\n",
       "  <tbody>\n",
       "    <tr>\n",
       "      <th>0</th>\n",
       "      <td>00:10:00</td>\n",
       "      <td>58773.36</td>\n",
       "      <td>2.742131</td>\n",
       "      <td>NaN</td>\n",
       "    </tr>\n",
       "    <tr>\n",
       "      <th>1</th>\n",
       "      <td>00:20:00</td>\n",
       "      <td>58726.31</td>\n",
       "      <td>2.739936</td>\n",
       "      <td>-47.05</td>\n",
       "    </tr>\n",
       "    <tr>\n",
       "      <th>2</th>\n",
       "      <td>00:30:00</td>\n",
       "      <td>58680.09</td>\n",
       "      <td>2.737779</td>\n",
       "      <td>-46.22</td>\n",
       "    </tr>\n",
       "    <tr>\n",
       "      <th>3</th>\n",
       "      <td>00:40:00</td>\n",
       "      <td>58634.68</td>\n",
       "      <td>2.735660</td>\n",
       "      <td>-45.41</td>\n",
       "    </tr>\n",
       "    <tr>\n",
       "      <th>4</th>\n",
       "      <td>00:50:00</td>\n",
       "      <td>58590.05</td>\n",
       "      <td>2.733578</td>\n",
       "      <td>-44.63</td>\n",
       "    </tr>\n",
       "    <tr>\n",
       "      <th>...</th>\n",
       "      <td>...</td>\n",
       "      <td>...</td>\n",
       "      <td>...</td>\n",
       "      <td>...</td>\n",
       "    </tr>\n",
       "    <tr>\n",
       "      <th>139</th>\n",
       "      <td>23:20:00</td>\n",
       "      <td>58904.92</td>\n",
       "      <td>2.748269</td>\n",
       "      <td>-23.35</td>\n",
       "    </tr>\n",
       "    <tr>\n",
       "      <th>140</th>\n",
       "      <td>23:30:00</td>\n",
       "      <td>58882.66</td>\n",
       "      <td>2.747230</td>\n",
       "      <td>-22.26</td>\n",
       "    </tr>\n",
       "    <tr>\n",
       "      <th>141</th>\n",
       "      <td>23:40:00</td>\n",
       "      <td>58861.37</td>\n",
       "      <td>2.746237</td>\n",
       "      <td>-21.29</td>\n",
       "    </tr>\n",
       "    <tr>\n",
       "      <th>142</th>\n",
       "      <td>23:50:00</td>\n",
       "      <td>58840.95</td>\n",
       "      <td>2.745284</td>\n",
       "      <td>-20.42</td>\n",
       "    </tr>\n",
       "    <tr>\n",
       "      <th>143</th>\n",
       "      <td>24:00:00</td>\n",
       "      <td>58821.30</td>\n",
       "      <td>2.744367</td>\n",
       "      <td>-19.65</td>\n",
       "    </tr>\n",
       "  </tbody>\n",
       "</table>\n",
       "<p>144 rows × 4 columns</p>\n",
       "</div>"
      ],
      "text/plain": [
       "         Time  Sens_Cool_Load  Cool_Mass_Flow   diff\n",
       "0    00:10:00        58773.36        2.742131    NaN\n",
       "1    00:20:00        58726.31        2.739936 -47.05\n",
       "2    00:30:00        58680.09        2.737779 -46.22\n",
       "3    00:40:00        58634.68        2.735660 -45.41\n",
       "4    00:50:00        58590.05        2.733578 -44.63\n",
       "..        ...             ...             ...    ...\n",
       "139  23:20:00        58904.92        2.748269 -23.35\n",
       "140  23:30:00        58882.66        2.747230 -22.26\n",
       "141  23:40:00        58861.37        2.746237 -21.29\n",
       "142  23:50:00        58840.95        2.745284 -20.42\n",
       "143  24:00:00        58821.30        2.744367 -19.65\n",
       "\n",
       "[144 rows x 4 columns]"
      ]
     },
     "execution_count": 25,
     "metadata": {},
     "output_type": "execute_result"
    }
   ],
   "source": [
    "# removing the last observation causing peaks\n",
    "\n",
    "df_model = df_ts.drop(df_ts.index[-1])\n",
    "df_model"
   ]
  },
  {
   "cell_type": "code",
   "execution_count": 26,
   "id": "65f0b278",
   "metadata": {},
   "outputs": [
    {
     "data": {
      "image/png": "[encoded data removed]",
      "text/plain": [
       "<Figure size 864x432 with 2 Axes>"
      ]
     },
     "metadata": {
      "needs_background": "light"
     },
     "output_type": "display_data"
    }
   ],
   "source": [
    "# Plot the original and differenced time series\n",
    "plt.figure(figsize=(12, 6))\n",
    "plt.subplot(2, 1, 1)\n",
    "plt.plot(df_model['Sens_Cool_Load'])\n",
    "plt.title('Original Time Series')\n",
    "\n",
    "plt.subplot(2, 1, 2)\n",
    "plt.plot(df_model['diff'].dropna())\n",
    "plt.title('Differenced Time Series')\n",
    "\n",
    "plt.tight_layout()\n",
    "plt.show()"
   ]
  },
  {
   "cell_type": "code",
   "execution_count": 27,
   "id": "20f7c997",
   "metadata": {},
   "outputs": [
    {
     "data": {
      "text/plain": [
       "<bound method NDFrame.head of          Time  Sens_Cool_Load  Cool_Mass_Flow    diff\n",
       "0    00:10:00        58773.36        2.742131     NaN\n",
       "1    00:20:00        58726.31        2.739936  -47.05\n",
       "2    00:30:00        58680.09        2.737779  -46.22\n",
       "3    00:40:00        58634.68        2.735660  -45.41\n",
       "4    00:50:00        58590.05        2.733578  -44.63\n",
       "..        ...             ...             ...     ...\n",
       "110  18:30:00        60794.03        2.836407  -59.60\n",
       "111  18:40:00        60721.35        2.833016  -72.68\n",
       "112  18:50:00        60634.22        2.828951  -87.13\n",
       "113  19:00:00        60529.79        2.824079 -104.43\n",
       "114  19:10:00        60409.11        2.818448 -120.68\n",
       "\n",
       "[115 rows x 4 columns]>"
      ]
     },
     "execution_count": 27,
     "metadata": {},
     "output_type": "execute_result"
    }
   ],
   "source": [
    "\n",
    "# Train-test split\n",
    "train_size = int(len(df_model) * 0.8)\n",
    "train, test = df_model[:train_size], df_model[train_size:]\n",
    "\n",
    "train.head\n",
    "\n",
    "# Predict on the test set\n",
    "#predictions = model_fit.predict(start=len(train), end=len(train) + len(test) - 1, typ='levels')\n"
   ]
  },
  {
   "cell_type": "code",
   "execution_count": 28,
   "id": "4f75daaa",
   "metadata": {
    "scrolled": true
   },
   "outputs": [
    {
     "data": {
      "text/plain": [
       "(29, 4)"
      ]
     },
     "execution_count": 28,
     "metadata": {},
     "output_type": "execute_result"
    }
   ],
   "source": [
    "test.shape"
   ]
  },
  {
   "cell_type": "code",
   "execution_count": 29,
   "id": "89b8b0fe",
   "metadata": {},
   "outputs": [
    {
     "name": "stderr",
     "output_type": "stream",
     "text": [
      "C:\\Users\\arjyo\\anaconda3\\lib\\site-packages\\statsmodels\\tsa\\base\\tsa_model.py:471: ValueWarning: An unsupported index was provided and will be ignored when e.g. forecasting.\n",
      "  self._init_dates(dates, freq)\n",
      "C:\\Users\\arjyo\\anaconda3\\lib\\site-packages\\statsmodels\\tsa\\base\\tsa_model.py:471: ValueWarning: An unsupported index was provided and will be ignored when e.g. forecasting.\n",
      "  self._init_dates(dates, freq)\n",
      "C:\\Users\\arjyo\\anaconda3\\lib\\site-packages\\statsmodels\\tsa\\base\\tsa_model.py:471: ValueWarning: An unsupported index was provided and will be ignored when e.g. forecasting.\n",
      "  self._init_dates(dates, freq)\n",
      "C:\\Users\\arjyo\\anaconda3\\lib\\site-packages\\statsmodels\\tsa\\base\\tsa_model.py:834: ValueWarning: No supported index is available. Prediction results will be given with an integer index beginning at `start`.\n",
      "  return get_prediction_index(\n"
     ]
    }
   ],
   "source": [
    "#Loading libraries\n",
    "from statsmodels.tsa.arima.model import ARIMA\n",
    "\n",
    "\n",
    "# Fit ARIMA model\n",
    "model = ARIMA(train['diff'].dropna(), order=(1, 1, 0))  # Adjust p, d, q as needed\n",
    "results = model.fit()\n",
    "\n",
    "# Forecast future values\n",
    "forecast_steps = len(test)\n",
    "forecast = results.get_forecast(steps=forecast_steps)\n",
    "\n"
   ]
  },
  {
   "cell_type": "code",
   "execution_count": 30,
   "id": "420d6a51",
   "metadata": {},
   "outputs": [
    {
     "data": {
      "image/png": "[encoded data removed]",
      "text/plain": [
       "<Figure size 864x432 with 1 Axes>"
      ]
     },
     "metadata": {
      "needs_background": "light"
     },
     "output_type": "display_data"
    }
   ],
   "source": [
    "# Plot the original, training, and forecasted time series\n",
    "plt.figure(figsize=(12, 6))\n",
    "plt.plot(df_ts['Time'], df_ts['diff'], label='Original')\n",
    "plt.plot(train['Time'], train['diff'], label='Training', linestyle='dashed')\n",
    "plt.plot(test['Time'], test['diff'], label='Testing', linestyle='dashed')\n",
    "plt.plot(forecast.predicted_mean.index, forecast.predicted_mean, color='red', label='Forecast')\n",
    "plt.title('Differenced Time Series with ARIMA Forecast')\n",
    "plt.legend()\n",
    "plt.show()"
   ]
  },
  {
   "cell_type": "markdown",
   "id": "78347b0c",
   "metadata": {},
   "source": [
    "Original Time Series:\n",
    "\n",
    "The original time series (in blue) represents actual data.\n",
    "This line should show the patterns, trends, and seasonality present in original data.\n",
    "\n",
    "Training Time Series (Dashed Line):\n",
    "\n",
    "The training time series (in orange) is a portion of the original time series used to train the ARIMA model.\n",
    "This line should overlap with the original time series and demonstrate how well the model is fitting the training data.\n",
    "\n",
    "\n",
    "Testing Time Series (Dashed Line):\n",
    "\n",
    "The testing time series (in green) is the remaining portion of the original time series not used during training.\n",
    "This line is not used during model training, it represents the remaining data.\n",
    "\n",
    "Forecasted Time Series (Red Line):\n",
    "\n",
    "The forecasted time series (in red) represents the model's predictions for the testing set.\n",
    "This line should align with the actual values in the testing set, indicating the accuracy of the model's predictions."
   ]
  },
  {
   "cell_type": "code",
   "execution_count": 31,
   "id": "93e794c9",
   "metadata": {},
   "outputs": [
    {
     "data": {
      "text/plain": [
       "120.31579691113963"
      ]
     },
     "execution_count": 31,
     "metadata": {},
     "output_type": "execute_result"
    }
   ],
   "source": [
    "from sklearn.metrics import mean_absolute_error, mean_squared_error\n",
    "import numpy as np\n",
    "\n",
    "\n",
    "\n",
    "\n",
    "# Calculate accuracy metrics\n",
    "mae = mean_absolute_error(test['diff'], forecast.predicted_mean)\n",
    "mae"
   ]
  },
  {
   "cell_type": "code",
   "execution_count": 32,
   "id": "47a837a6",
   "metadata": {},
   "outputs": [
    {
     "data": {
      "text/plain": [
       "16815.19058378535"
      ]
     },
     "execution_count": 32,
     "metadata": {},
     "output_type": "execute_result"
    }
   ],
   "source": [
    "mse = mean_squared_error(test['diff'], forecast.predicted_mean)\n",
    "mse"
   ]
  },
  {
   "cell_type": "code",
   "execution_count": 33,
   "id": "20cd7eda",
   "metadata": {},
   "outputs": [
    {
     "data": {
      "text/plain": [
       "129.67339967697828"
      ]
     },
     "execution_count": 33,
     "metadata": {},
     "output_type": "execute_result"
    }
   ],
   "source": [
    "rmse = np.sqrt(mse)\n",
    "rmse"
   ]
  },
  {
   "cell_type": "markdown",
   "id": "1852cb6c",
   "metadata": {},
   "source": [
    "Next attempt can be done by LMSAT OR CNN as done in other notebook\n"
   ]
  }
 ],
 "metadata": {
  "kernelspec": {
   "display_name": "Python 3 (ipykernel)",
   "language": "python",
   "name": "python3"
  },
  "language_info": {
   "codemirror_mode": {
    "name": "ipython",
    "version": 3
   },
   "file_extension": ".py",
   "mimetype": "text/x-python",
   "name": "python",
   "nbconvert_exporter": "python",
   "pygments_lexer": "ipython3",
   "version": "3.9.12"
  }
 },
 "nbformat": 4,
 "nbformat_minor": 5
}
