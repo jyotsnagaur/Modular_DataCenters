{
 "cells": [
  {
   "cell_type": "code",
   "execution_count": 1,
   "id": "f4c8ff7c",
   "metadata": {},
   "outputs": [],
   "source": [
    "import pandas as pd\n",
    "\n",
    "\n",
    "# Replace with the filepath to your csv file\n",
    "file_path = \"C:/Users/arjyo/simulation/unnamed/openstudio/run/epluszsz.csv\"\n",
    "\n",
    "# Read the Excel file into a DataFrame\n",
    "df = pd.read_csv(file_path)\n"
   ]
  },
  {
   "cell_type": "code",
   "execution_count": 2,
   "id": "054b615c",
   "metadata": {},
   "outputs": [],
   "source": [
    "# Identify columns with all observations as 0\n",
    "columns_to_remove = df.columns[df.all() == 0]\n",
    "\n"
   ]
  },
  {
   "cell_type": "code",
   "execution_count": 3,
   "id": "d6a4446b",
   "metadata": {},
   "outputs": [],
   "source": [
    "# Drop columns with all observations as 0\n",
    "df = df.drop(columns=columns_to_remove)"
   ]
  },
  {
   "cell_type": "code",
   "execution_count": 4,
   "id": "07dd2d2a",
   "metadata": {},
   "outputs": [],
   "source": [
    "df.drop(df.columns[[2, 3,4,5,6]], axis=1, inplace=True)"
   ]
  },
  {
   "cell_type": "code",
   "execution_count": 5,
   "id": "de2fcfd4",
   "metadata": {},
   "outputs": [],
   "source": [
    "new_column_name = 'cool_load'\n",
    "\n",
    "# Rename the first column\n",
    "df.rename(columns={df.columns[1]: new_column_name}, inplace=True)"
   ]
  },
  {
   "cell_type": "code",
   "execution_count": 6,
   "id": "05004928",
   "metadata": {},
   "outputs": [
    {
     "data": {
      "text/html": [
       "<div>\n",
       "<style scoped>\n",
       "    .dataframe tbody tr th:only-of-type {\n",
       "        vertical-align: middle;\n",
       "    }\n",
       "\n",
       "    .dataframe tbody tr th {\n",
       "        vertical-align: top;\n",
       "    }\n",
       "\n",
       "    .dataframe thead th {\n",
       "        text-align: right;\n",
       "    }\n",
       "</style>\n",
       "<table border=\"1\" class=\"dataframe\">\n",
       "  <thead>\n",
       "    <tr style=\"text-align: right;\">\n",
       "      <th></th>\n",
       "      <th>Time</th>\n",
       "      <th>cool_load</th>\n",
       "    </tr>\n",
       "  </thead>\n",
       "  <tbody>\n",
       "    <tr>\n",
       "      <th>0</th>\n",
       "      <td>00:10:00</td>\n",
       "      <td>58773.36</td>\n",
       "    </tr>\n",
       "    <tr>\n",
       "      <th>1</th>\n",
       "      <td>00:20:00</td>\n",
       "      <td>58726.31</td>\n",
       "    </tr>\n",
       "    <tr>\n",
       "      <th>2</th>\n",
       "      <td>00:30:00</td>\n",
       "      <td>58680.09</td>\n",
       "    </tr>\n",
       "    <tr>\n",
       "      <th>3</th>\n",
       "      <td>00:40:00</td>\n",
       "      <td>58634.68</td>\n",
       "    </tr>\n",
       "    <tr>\n",
       "      <th>4</th>\n",
       "      <td>00:50:00</td>\n",
       "      <td>58590.05</td>\n",
       "    </tr>\n",
       "  </tbody>\n",
       "</table>\n",
       "</div>"
      ],
      "text/plain": [
       "       Time  cool_load\n",
       "0  00:10:00   58773.36\n",
       "1  00:20:00   58726.31\n",
       "2  00:30:00   58680.09\n",
       "3  00:40:00   58634.68\n",
       "4  00:50:00   58590.05"
      ]
     },
     "execution_count": 6,
     "metadata": {},
     "output_type": "execute_result"
    }
   ],
   "source": [
    "df.head()"
   ]
  },
  {
   "cell_type": "code",
   "execution_count": 7,
   "id": "f10a0e0f",
   "metadata": {},
   "outputs": [
    {
     "name": "stderr",
     "output_type": "stream",
     "text": [
      "C:\\Users\\arjyo\\anaconda3\\lib\\site-packages\\scipy\\__init__.py:146: UserWarning: A NumPy version >=1.16.5 and <1.23.0 is required for this version of SciPy (detected version 1.26.3\n",
      "  warnings.warn(f\"A NumPy version >={np_minversion} and <{np_maxversion}\"\n"
     ]
    },
    {
     "name": "stdout",
     "output_type": "stream",
     "text": [
      "WARNING:tensorflow:From C:\\Users\\arjyo\\anaconda3\\lib\\site-packages\\keras\\src\\losses.py:2976: The name tf.losses.sparse_softmax_cross_entropy is deprecated. Please use tf.compat.v1.losses.sparse_softmax_cross_entropy instead.\n",
      "\n"
     ]
    }
   ],
   "source": [
    "import numpy as np\n",
    "import pandas as pd\n",
    "from sklearn.model_selection import train_test_split\n",
    "from sklearn.preprocessing import MinMaxScaler\n",
    "from tensorflow.keras.models import Sequential\n",
    "from tensorflow.keras.layers import Conv1D, MaxPooling1D, Flatten, Dense\n"
   ]
  },
  {
   "cell_type": "code",
   "execution_count": 18,
   "id": "8d14d6c7",
   "metadata": {},
   "outputs": [],
   "source": [
    "# Normalize the 'cool_load' values\n",
    "scaler = MinMaxScaler(feature_range=(0, 1))\n",
    "df['cool_load_normalized'] = scaler.fit_transform(df['cool_load'].values.reshape(-1, 1))\n"
   ]
  },
  {
   "cell_type": "code",
   "execution_count": 19,
   "id": "ac936075",
   "metadata": {},
   "outputs": [],
   "source": [
    "# Create sequences for training\n",
    "sequence_length = 10\n",
    "X, y = [], []\n",
    "for i in range(len(df) - sequence_length):\n",
    "    X.append(df['cool_load_normalized'].values[i:i+sequence_length])\n",
    "    y.append(df['cool_load_normalized'].values[i+sequence_length])\n",
    "\n",
    "X = np.array(X)\n",
    "y = np.array(y)"
   ]
  },
  {
   "cell_type": "code",
   "execution_count": 20,
   "id": "82ba8ccb",
   "metadata": {},
   "outputs": [],
   "source": [
    "nan_indices = np.isnan(y)\n",
    "X = X[~nan_indices]\n",
    "y = y[~nan_indices]"
   ]
  },
  {
   "cell_type": "code",
   "execution_count": 21,
   "id": "257d5320",
   "metadata": {},
   "outputs": [],
   "source": [
    "# Split the data into training and testing sets\n",
    "X_train, X_test, y_train, y_test = train_test_split(X, y, test_size=0.2, random_state=42)\n"
   ]
  },
  {
   "cell_type": "code",
   "execution_count": 22,
   "id": "0968527e",
   "metadata": {},
   "outputs": [
    {
     "data": {
      "text/plain": [
       "array([[0.05379856, 0.04980047, 0.04598174, ..., 0.02927571, 0.02633133,\n",
       "        0.02348409],\n",
       "       [0.43802592, 0.4169631 , 0.39724543, ..., 0.3150754 , 0.30132124,\n",
       "        0.28835548],\n",
       "       [0.69761012, 0.71326244, 0.72989747, ..., 0.81482132, 0.83135173,\n",
       "        0.8478784 ],\n",
       "       ...,\n",
       "       [0.04232741, 0.03884123, 0.03550824, ..., 0.02072653, 0.01804744,\n",
       "        0.01543934],\n",
       "       [0.89622536, 0.91178427, 0.9266706 , ..., 0.98452703, 0.99143214,\n",
       "        0.99641667],\n",
       "       [0.99933863, 1.        , 0.99821768, ..., 0.94407909, 0.92180938,\n",
       "        0.89465228]])"
      ]
     },
     "execution_count": 22,
     "metadata": {},
     "output_type": "execute_result"
    }
   ],
   "source": [
    "X_train"
   ]
  },
  {
   "cell_type": "code",
   "execution_count": 23,
   "id": "882a8409",
   "metadata": {},
   "outputs": [
    {
     "data": {
      "text/plain": [
       "array([[0.97582465, 0.98452703, 0.99143214, 0.99641667, 0.99933863,\n",
       "        1.        , 0.99821768, 0.9937712 , 0.9864364 , 0.97597411],\n",
       "       [0.58407192, 0.59463509, 0.60403246, 0.61223415, 0.61921025,\n",
       "        0.62527837, 0.63092053, 0.63665237, 0.64297458, 0.65038785],\n",
       "       [0.9937712 , 0.9864364 , 0.97597411, 0.96198081, 0.94407909,\n",
       "        0.92180938, 0.89465228, 0.86209589, 0.82307531, 0.77798287],\n",
       "       [0.02633133, 0.02348409, 0.02072653, 0.01804744, 0.01543934,\n",
       "        0.01292839, 0.01051086, 0.00818674, 0.00596724, 0.00384489],\n",
       "       [0.22629172, 0.22830944, 0.23168727, 0.23675027, 0.24387583,\n",
       "        0.25353849, 0.26594751, 0.28141301, 0.29921757, 0.31798616],\n",
       "       [0.51668361, 0.53173808, 0.54609757, 0.55972843, 0.57243637,\n",
       "        0.58407192, 0.59463509, 0.60403246, 0.61223415, 0.61921025],\n",
       "       [0.04980047, 0.04598174, 0.04232741, 0.03884123, 0.03550824,\n",
       "        0.03233219, 0.02927571, 0.02633133, 0.02348409, 0.02072653],\n",
       "       [0.92180938, 0.89465228, 0.86209589, 0.82307531, 0.77798287,\n",
       "        0.72817493, 0.67789992, 0.62956043, 0.58468845, 0.54527927],\n",
       "       [0.39724543, 0.37875334, 0.36137474, 0.34501995, 0.32961798,\n",
       "        0.3150754 , 0.30132124, 0.28835548, 0.27613329, 0.26460983],\n",
       "       [0.34501995, 0.32961798, 0.3150754 , 0.30132124, 0.28835548,\n",
       "        0.27613329, 0.26460983, 0.253744  , 0.24349844, 0.23383577],\n",
       "       [0.23168727, 0.23675027, 0.24387583, 0.25353849, 0.26594751,\n",
       "        0.28141301, 0.29921757, 0.31798616, 0.33717324, 0.35647242],\n",
       "       [0.22158369, 0.22471117, 0.22629172, 0.22830944, 0.23168727,\n",
       "        0.23675027, 0.24387583, 0.25353849, 0.26594751, 0.28141301],\n",
       "       [0.00596724, 0.00384489, 0.00182343, 0.        , 0.00437174,\n",
       "        0.01845098, 0.04252171, 0.07374789, 0.10961484, 0.14763029],\n",
       "       [0.99143214, 0.99641667, 0.99933863, 1.        , 0.99821768,\n",
       "        0.9937712 , 0.9864364 , 0.97597411, 0.96198081, 0.94407909],\n",
       "       [0.54527927, 0.51208394, 0.48488947, 0.46059082, 0.43802592,\n",
       "        0.4169631 , 0.39724543, 0.37875334, 0.36137474, 0.34501995],\n",
       "       [0.00437174, 0.01845098, 0.04252171, 0.07374789, 0.10961484,\n",
       "        0.14763029, 0.17954773, 0.20163809, 0.21464869, 0.22158369],\n",
       "       [0.31798616, 0.33717324, 0.35647242, 0.37569686, 0.39476437,\n",
       "        0.41358154, 0.43205121, 0.45006128, 0.46759308, 0.48457934],\n",
       "       [0.09828568, 0.08191221, 0.07669227, 0.0716928 , 0.0669063 ,\n",
       "        0.06233653, 0.05797226, 0.05379856, 0.04980047, 0.04598174],\n",
       "       [0.76419508, 0.78131212, 0.79816013, 0.81482132, 0.83135173,\n",
       "        0.8478784 , 0.86424066, 0.88036753, 0.89622536, 0.91178427],\n",
       "       [0.71326244, 0.72989747, 0.74698836, 0.76419508, 0.78131212,\n",
       "        0.79816013, 0.81482132, 0.83135173, 0.8478784 , 0.86424066],\n",
       "       [0.78131212, 0.79816013, 0.81482132, 0.83135173, 0.8478784 ,\n",
       "        0.86424066, 0.88036753, 0.89622536, 0.91178427, 0.9266706 ],\n",
       "       [0.00818674, 0.00596724, 0.00384489, 0.00182343, 0.        ,\n",
       "        0.00437174, 0.01845098, 0.04252171, 0.07374789, 0.10961484],\n",
       "       [0.03550824, 0.03233219, 0.02927571, 0.02633133, 0.02348409,\n",
       "        0.02072653, 0.01804744, 0.01543934, 0.01292839, 0.01051086],\n",
       "       [0.02927571, 0.02633133, 0.02348409, 0.02072653, 0.01804744,\n",
       "        0.01543934, 0.01292839, 0.01051086, 0.00818674, 0.00596724],\n",
       "       [0.05797226, 0.05379856, 0.04980047, 0.04598174, 0.04232741,\n",
       "        0.03884123, 0.03550824, 0.03233219, 0.02927571, 0.02633133],\n",
       "       [0.89465228, 0.86209589, 0.82307531, 0.77798287, 0.72817493,\n",
       "        0.67789992, 0.62956043, 0.58468845, 0.54527927, 0.51208394],\n",
       "       [0.23675027, 0.24387583, 0.25353849, 0.26594751, 0.28141301,\n",
       "        0.29921757, 0.31798616, 0.33717324, 0.35647242, 0.37569686]])"
      ]
     },
     "execution_count": 23,
     "metadata": {},
     "output_type": "execute_result"
    }
   ],
   "source": [
    "X_test"
   ]
  },
  {
   "cell_type": "code",
   "execution_count": 24,
   "id": "89f4a818",
   "metadata": {},
   "outputs": [
    {
     "data": {
      "text/plain": [
       "array([0.02072653, 0.27613329, 0.86424066, 0.77798287, 0.91178427,\n",
       "       0.24387583, 0.05797226, 0.67046049, 0.57243637, 0.07374789,\n",
       "       0.43802592, 0.34501995, 0.55972843, 0.01051086, 0.24349844,\n",
       "       0.28141301, 0.01845098, 0.64297458, 0.68326931, 1.        ,\n",
       "       0.43205121, 0.22158369, 0.79816013, 0.65038785, 0.02633133,\n",
       "       0.22830944, 0.20762028, 0.10961484, 0.99821768, 0.20163809,\n",
       "       0.61223415, 0.63665237, 0.97597411, 0.53173808, 0.03884123,\n",
       "       0.98452703, 0.74698836, 0.83135173, 0.46759308, 0.23675027,\n",
       "       0.23168727, 0.3150754 , 0.03233219, 0.35647242, 0.69761012,\n",
       "       0.81482132, 0.54527927, 0.39724543, 0.02927571, 0.01543934,\n",
       "       0.9937712 , 0.04598174, 0.00596724, 0.26594751, 0.72989747,\n",
       "       0.19966521, 0.03550824, 0.89465228, 0.36137474, 0.58468845,\n",
       "       0.54609757, 0.48457934, 0.9864364 , 0.41358154, 0.18469293,\n",
       "       0.61921025, 0.19203521, 0.8478784 , 0.46059082, 0.99641667,\n",
       "       0.31798616, 0.59463509, 0.99143214, 0.45006128, 0.97582465,\n",
       "       0.23383577, 0.58407192, 0.78131212, 0.22629172, 0.21593779,\n",
       "       0.60403246, 0.63092053, 0.4169631 , 0.25353849, 0.21464869,\n",
       "       0.62956043, 0.28835548, 0.05379856, 0.51668361, 0.00437174,\n",
       "       0.04980047, 0.04252171, 0.82307531, 0.94407909, 0.37875334,\n",
       "       0.96536611, 0.26460983, 0.76419508, 0.95357362, 0.89622536,\n",
       "       0.30132124, 1.        , 0.        , 0.71326244, 0.67789992,\n",
       "       0.01292839, 0.99933863, 0.86209589])"
      ]
     },
     "execution_count": 24,
     "metadata": {},
     "output_type": "execute_result"
    }
   ],
   "source": [
    "y_train"
   ]
  },
  {
   "cell_type": "code",
   "execution_count": 25,
   "id": "f19a17d9",
   "metadata": {},
   "outputs": [
    {
     "data": {
      "text/plain": [
       "array([0.96198081, 0.65947509, 0.72817493, 0.00182343, 0.33717324,\n",
       "       0.62527837, 0.01804744, 0.51208394, 0.253744  , 0.22466259,\n",
       "       0.37569686, 0.29921757, 0.17954773, 0.92180938, 0.32961798,\n",
       "       0.22471117, 0.50095655, 0.04232741, 0.9266706 , 0.88036753,\n",
       "       0.94061533, 0.14763029, 0.00818674, 0.00384489, 0.02348409,\n",
       "       0.48488947, 0.39476437])"
      ]
     },
     "execution_count": 25,
     "metadata": {},
     "output_type": "execute_result"
    }
   ],
   "source": [
    "y_test"
   ]
  },
  {
   "cell_type": "code",
   "execution_count": 26,
   "id": "84f4704b",
   "metadata": {},
   "outputs": [],
   "source": [
    "# Reshape the data for CNN input (samples, time steps, features)\n",
    "X_train = X_train.reshape((X_train.shape[0], X_train.shape[1], 1))\n",
    "X_test = X_test.reshape((X_test.shape[0], X_test.shape[1], 1))\n"
   ]
  },
  {
   "cell_type": "code",
   "execution_count": 27,
   "id": "f3b5c9b4",
   "metadata": {},
   "outputs": [],
   "source": [
    "# Build the CNN model\n",
    "model = Sequential()\n",
    "model.add(Conv1D(filters=64, kernel_size=3, activation='relu', input_shape=(sequence_length, 1)))\n",
    "model.add(MaxPooling1D(pool_size=2))\n",
    "model.add(Flatten())\n",
    "model.add(Dense(50, activation='relu'))\n",
    "model.add(Dense(1, activation='linear'))  # Use 'linear' activation for regression\n",
    "\n",
    "model.compile(optimizer='adam', loss='mean_squared_error')\n"
   ]
  },
  {
   "cell_type": "code",
   "execution_count": 28,
   "id": "18e027ec",
   "metadata": {},
   "outputs": [
    {
     "name": "stdout",
     "output_type": "stream",
     "text": [
      "Epoch 1/50\n",
      "4/4 - 0s - loss: 0.2809 - val_loss: 0.1055 - 435ms/epoch - 109ms/step\n",
      "Epoch 2/50\n",
      "4/4 - 0s - loss: 0.0985 - val_loss: 0.0221 - 41ms/epoch - 10ms/step\n",
      "Epoch 3/50\n",
      "4/4 - 0s - loss: 0.0217 - val_loss: 0.0137 - 41ms/epoch - 10ms/step\n",
      "Epoch 4/50\n",
      "4/4 - 0s - loss: 0.0204 - val_loss: 0.0272 - 37ms/epoch - 9ms/step\n",
      "Epoch 5/50\n",
      "4/4 - 0s - loss: 0.0272 - val_loss: 0.0190 - 32ms/epoch - 8ms/step\n",
      "Epoch 6/50\n",
      "4/4 - 0s - loss: 0.0173 - val_loss: 0.0093 - 33ms/epoch - 8ms/step\n",
      "Epoch 7/50\n",
      "4/4 - 0s - loss: 0.0132 - val_loss: 0.0090 - 31ms/epoch - 8ms/step\n",
      "Epoch 8/50\n",
      "4/4 - 0s - loss: 0.0157 - val_loss: 0.0090 - 32ms/epoch - 8ms/step\n",
      "Epoch 9/50\n",
      "4/4 - 0s - loss: 0.0143 - val_loss: 0.0078 - 30ms/epoch - 8ms/step\n",
      "Epoch 10/50\n",
      "4/4 - 0s - loss: 0.0128 - val_loss: 0.0091 - 32ms/epoch - 8ms/step\n",
      "Epoch 11/50\n",
      "4/4 - 0s - loss: 0.0124 - val_loss: 0.0086 - 33ms/epoch - 8ms/step\n",
      "Epoch 12/50\n",
      "4/4 - 0s - loss: 0.0119 - val_loss: 0.0072 - 33ms/epoch - 8ms/step\n",
      "Epoch 13/50\n",
      "4/4 - 0s - loss: 0.0115 - val_loss: 0.0068 - 31ms/epoch - 8ms/step\n",
      "Epoch 14/50\n",
      "4/4 - 0s - loss: 0.0111 - val_loss: 0.0069 - 34ms/epoch - 8ms/step\n",
      "Epoch 15/50\n",
      "4/4 - 0s - loss: 0.0109 - val_loss: 0.0070 - 33ms/epoch - 8ms/step\n",
      "Epoch 16/50\n",
      "4/4 - 0s - loss: 0.0108 - val_loss: 0.0064 - 32ms/epoch - 8ms/step\n",
      "Epoch 17/50\n",
      "4/4 - 0s - loss: 0.0105 - val_loss: 0.0060 - 33ms/epoch - 8ms/step\n",
      "Epoch 18/50\n",
      "4/4 - 0s - loss: 0.0104 - val_loss: 0.0058 - 30ms/epoch - 8ms/step\n",
      "Epoch 19/50\n",
      "4/4 - 0s - loss: 0.0102 - val_loss: 0.0057 - 31ms/epoch - 8ms/step\n",
      "Epoch 20/50\n",
      "4/4 - 0s - loss: 0.0100 - val_loss: 0.0056 - 28ms/epoch - 7ms/step\n",
      "Epoch 21/50\n",
      "4/4 - 0s - loss: 0.0098 - val_loss: 0.0053 - 30ms/epoch - 8ms/step\n",
      "Epoch 22/50\n",
      "4/4 - 0s - loss: 0.0098 - val_loss: 0.0049 - 29ms/epoch - 7ms/step\n",
      "Epoch 23/50\n",
      "4/4 - 0s - loss: 0.0096 - val_loss: 0.0051 - 30ms/epoch - 7ms/step\n",
      "Epoch 24/50\n",
      "4/4 - 0s - loss: 0.0095 - val_loss: 0.0045 - 31ms/epoch - 8ms/step\n",
      "Epoch 25/50\n",
      "4/4 - 0s - loss: 0.0092 - val_loss: 0.0044 - 28ms/epoch - 7ms/step\n",
      "Epoch 26/50\n",
      "4/4 - 0s - loss: 0.0090 - val_loss: 0.0043 - 30ms/epoch - 8ms/step\n",
      "Epoch 27/50\n",
      "4/4 - 0s - loss: 0.0091 - val_loss: 0.0039 - 29ms/epoch - 7ms/step\n",
      "Epoch 28/50\n",
      "4/4 - 0s - loss: 0.0088 - val_loss: 0.0040 - 28ms/epoch - 7ms/step\n",
      "Epoch 29/50\n",
      "4/4 - 0s - loss: 0.0086 - val_loss: 0.0036 - 29ms/epoch - 7ms/step\n",
      "Epoch 30/50\n",
      "4/4 - 0s - loss: 0.0086 - val_loss: 0.0033 - 32ms/epoch - 8ms/step\n",
      "Epoch 31/50\n",
      "4/4 - 0s - loss: 0.0084 - val_loss: 0.0039 - 29ms/epoch - 7ms/step\n",
      "Epoch 32/50\n",
      "4/4 - 0s - loss: 0.0085 - val_loss: 0.0033 - 29ms/epoch - 7ms/step\n",
      "Epoch 33/50\n",
      "4/4 - 0s - loss: 0.0082 - val_loss: 0.0029 - 30ms/epoch - 7ms/step\n",
      "Epoch 34/50\n",
      "4/4 - 0s - loss: 0.0082 - val_loss: 0.0029 - 31ms/epoch - 8ms/step\n",
      "Epoch 35/50\n",
      "4/4 - 0s - loss: 0.0080 - val_loss: 0.0027 - 29ms/epoch - 7ms/step\n",
      "Epoch 36/50\n",
      "4/4 - 0s - loss: 0.0078 - val_loss: 0.0029 - 29ms/epoch - 7ms/step\n",
      "Epoch 37/50\n",
      "4/4 - 0s - loss: 0.0078 - val_loss: 0.0026 - 28ms/epoch - 7ms/step\n",
      "Epoch 38/50\n",
      "4/4 - 0s - loss: 0.0077 - val_loss: 0.0023 - 32ms/epoch - 8ms/step\n",
      "Epoch 39/50\n",
      "4/4 - 0s - loss: 0.0080 - val_loss: 0.0021 - 29ms/epoch - 7ms/step\n",
      "Epoch 40/50\n",
      "4/4 - 0s - loss: 0.0075 - val_loss: 0.0025 - 31ms/epoch - 8ms/step\n",
      "Epoch 41/50\n",
      "4/4 - 0s - loss: 0.0076 - val_loss: 0.0022 - 30ms/epoch - 7ms/step\n",
      "Epoch 42/50\n",
      "4/4 - 0s - loss: 0.0074 - val_loss: 0.0018 - 31ms/epoch - 8ms/step\n",
      "Epoch 43/50\n",
      "4/4 - 0s - loss: 0.0075 - val_loss: 0.0019 - 30ms/epoch - 8ms/step\n",
      "Epoch 44/50\n",
      "4/4 - 0s - loss: 0.0072 - val_loss: 0.0022 - 31ms/epoch - 8ms/step\n",
      "Epoch 45/50\n",
      "4/4 - 0s - loss: 0.0073 - val_loss: 0.0017 - 30ms/epoch - 7ms/step\n",
      "Epoch 46/50\n",
      "4/4 - 0s - loss: 0.0071 - val_loss: 0.0015 - 30ms/epoch - 8ms/step\n",
      "Epoch 47/50\n",
      "4/4 - 0s - loss: 0.0072 - val_loss: 0.0017 - 29ms/epoch - 7ms/step\n",
      "Epoch 48/50\n",
      "4/4 - 0s - loss: 0.0070 - val_loss: 0.0014 - 31ms/epoch - 8ms/step\n",
      "Epoch 49/50\n",
      "4/4 - 0s - loss: 0.0070 - val_loss: 0.0016 - 34ms/epoch - 9ms/step\n",
      "Epoch 50/50\n",
      "4/4 - 0s - loss: 0.0069 - val_loss: 0.0013 - 33ms/epoch - 8ms/step\n"
     ]
    },
    {
     "data": {
      "text/plain": [
       "<keras.src.callbacks.History at 0x16f3a145d90>"
      ]
     },
     "execution_count": 28,
     "metadata": {},
     "output_type": "execute_result"
    }
   ],
   "source": [
    "# Train the model\n",
    "model.fit(X_train, y_train, epochs=50, batch_size=32, validation_data=(X_test, y_test), verbose=2)\n"
   ]
  },
  {
   "cell_type": "code",
   "execution_count": 29,
   "id": "bc840077",
   "metadata": {},
   "outputs": [
    {
     "name": "stdout",
     "output_type": "stream",
     "text": [
      "1/1 [==============================] - 0s 69ms/step\n"
     ]
    }
   ],
   "source": [
    "# Make predictions\n",
    "predictions = model.predict(X_test)"
   ]
  },
  {
   "cell_type": "code",
   "execution_count": 35,
   "id": "9e2967ca",
   "metadata": {},
   "outputs": [
    {
     "data": {
      "text/plain": [
       "0.0362203149495015"
      ]
     },
     "execution_count": 35,
     "metadata": {},
     "output_type": "execute_result"
    }
   ],
   "source": [
    "\n",
    "from sklearn.metrics import mean_squared_error\n",
    "\n",
    "mse = mean_squared_error(y_test, predictions)\n",
    "rmse = np.sqrt(mse)\n",
    "rmse"
   ]
  },
  {
   "cell_type": "code",
   "execution_count": null,
   "id": "88d81b6e",
   "metadata": {},
   "outputs": [],
   "source": []
  }
 ],
 "metadata": {
  "kernelspec": {
   "display_name": "Python 3 (ipykernel)",
   "language": "python",
   "name": "python3"
  },
  "language_info": {
   "codemirror_mode": {
    "name": "ipython",
    "version": 3
   },
   "file_extension": ".py",
   "mimetype": "text/x-python",
   "name": "python",
   "nbconvert_exporter": "python",
   "pygments_lexer": "ipython3",
   "version": "3.9.12"
  }
 },
 "nbformat": 4,
 "nbformat_minor": 5
}
